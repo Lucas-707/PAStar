{
 "cells": [
  {
   "cell_type": "code",
   "execution_count": 40,
   "metadata": {},
   "outputs": [],
   "source": [
    "import numpy as np\n",
    "import pandas as pd\n",
    "import csv\n",
    "import os, sys\n",
    "import matplotlib.pyplot as plt"
   ]
  },
  {
   "cell_type": "code",
   "execution_count": 62,
   "metadata": {},
   "outputs": [],
   "source": [
    "benchmark_dir = \"./benchmark\"\n",
    "nproc_list = [1, 2, 4, 8, 16, 32, 64, 128]\n",
    "trial_num = 10\n",
    "map_list = [\n",
    "    # \"maze512-1-9.map\",\n",
    "    # \"maze512-4-6.map\",\n",
    "    # \"maze512-8-4.map\",\n",
    "    # \"maze512-32-9.map\",\n",
    "    # \"Paris_1_256.map\",\n",
    "    # \"Paris_1_512.map\",\n",
    "    # \"Paris_1_1024.map\",\n",
    "    # \"random512-40-5.map\",\n",
    "    # \"den201d.map\",\n",
    "    # \"den312d.map\",\n",
    "    # \"den602d.map\",\n",
    "    # \"orz900d.map\",\n",
    "    \"64room_005.map\",\n",
    "]\n"
   ]
  },
  {
   "cell_type": "code",
   "execution_count": 63,
   "metadata": {},
   "outputs": [
    {
     "data": {
      "image/png": "[encoded data removed]",
      "text/plain": [
       "<Figure size 432x288 with 1 Axes>"
      ]
     },
     "metadata": {
      "needs_background": "light"
     },
     "output_type": "display_data"
    }
   ],
   "source": [
    "fig = plt.figure()\n",
    "\n",
    "for map in map_list:\n",
    "    csv_map_path = f\"results/{map[:-4]}.csv\"\n",
    "    df = pd.read_csv(csv_map_path)\n",
    "    df['speedup'] = None\n",
    "    df_base = df[df['#node received']==0]\n",
    "    df = df[df['#node received'] > 0]\n",
    "    for idx, row in df.iterrows():\n",
    "        instance = row['instance name']\n",
    "        trial_idx = row['trial index']\n",
    "        base_row = df_base[(df_base['instance name']==instance) & (df_base['trial index']==trial_idx)].iloc[0]\n",
    "        df.at[idx, 'speedup'] = base_row['runtime'] / row['runtime']\n",
    "    df['speedup'] = df['speedup'].astype(float)\n",
    "    group_dict = {'speedup':['mean']}\n",
    "    gdf = df.groupby(['instance name', 'nproc'], as_index=False).agg(group_dict)\n",
    "    plt.plot(gdf['nproc'], gdf['speedup']['mean'])\n"
   ]
  },
  {
   "cell_type": "code",
   "execution_count": null,
   "metadata": {},
   "outputs": [],
   "source": []
  }
 ],
 "metadata": {
  "kernelspec": {
   "display_name": "base",
   "language": "python",
   "name": "python3"
  },
  "language_info": {
   "codemirror_mode": {
    "name": "ipython",
    "version": 3
   },
   "file_extension": ".py",
   "mimetype": "text/x-python",
   "name": "python",
   "nbconvert_exporter": "python",
   "pygments_lexer": "ipython3",
   "version": "3.8.3"
  }
 },
 "nbformat": 4,
 "nbformat_minor": 2
}
